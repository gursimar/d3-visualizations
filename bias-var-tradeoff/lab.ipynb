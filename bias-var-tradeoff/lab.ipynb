{
 "cells": [
  {
   "cell_type": "code",
   "execution_count": 216,
   "metadata": {
    "collapsed": true
   },
   "outputs": [],
   "source": [
    "import numpy as np\n",
    "import random, math\n",
    "import matplotlib.pyplot as plt\n",
    "%matplotlib inline"
   ]
  },
  {
   "cell_type": "code",
   "execution_count": 88,
   "metadata": {},
   "outputs": [],
   "source": [
    "def polyBasis(data,basisDegree):\n",
    "    length = data.shape[0]\n",
    "    result = np.ones((length,1))\n",
    "    for p in range(1,basisDegree+1):\n",
    "        nthData = pow(data,p).reshape((length,1))\n",
    "        result = np.concatenate((result, nthData),1)\n",
    "    return result"
   ]
  },
  {
   "cell_type": "code",
   "execution_count": 214,
   "metadata": {},
   "outputs": [],
   "source": [
    "def generateData(data, function, nf):\n",
    "    result = []\n",
    "    for datum in data:\n",
    "        y = 0\n",
    "        for (i, val) in enumerate(function):\n",
    "            y = y + val * pow(datum,i)\n",
    "        #noise = random.random() * nf\n",
    "        noise = math.sin(datum) * nf\n",
    "        y = y + noise\n",
    "        result.append(y)\n",
    "    return result"
   ]
  },
  {
   "cell_type": "code",
   "execution_count": 286,
   "metadata": {},
   "outputs": [],
   "source": [
    "X = np.linspace(-5,12,60)\n",
    "noise = 5000\n",
    "model = [7,4,-1,10,-1]\n",
    "y = generateData(X, model, 0) \n",
    "#display(x)\n",
    "#display(y)"
   ]
  },
  {
   "cell_type": "code",
   "execution_count": 291,
   "metadata": {},
   "outputs": [
    {
     "data": {
      "image/png": "[encoded data removed]",
      "text/plain": [
       "<matplotlib.figure.Figure at 0x118d661d0>"
      ]
     },
     "metadata": {},
     "output_type": "display_data"
    },
    {
     "data": {
      "text/plain": [
       "array([ 7.,  4., -1., 10., -1.])"
      ]
     },
     "execution_count": 0,
     "metadata": {},
     "output_type": "execute_result"
    }
   ],
   "source": [
    "Z = polyBasis(X,4)\n",
    "first_term = np.linalg.inv(np.matmul(Z.T, Z))\n",
    "second_term = np.matmul(Z.T,y)\n",
    "w = np.matmul(first_term, second_term)\n",
    "yhat = np.matmul(Z,w)\n",
    "\n",
    "fig = plt.figure()\n",
    "plt.xlabel('x')\n",
    "plt.ylabel('y')\n",
    "plt.plot(X, y, 'o', figure=fig, label='data')\n",
    "plt.plot(X, yhat, 'r', figure=fig, label = 'regression')\n",
    "plt.show()\n",
    "display(w)"
   ]
  },
  {
   "cell_type": "code",
   "execution_count": 267,
   "metadata": {},
   "outputs": [],
   "source": [
    ""
   ]
  },
  {
   "cell_type": "code",
   "execution_count": 292,
   "metadata": {},
   "outputs": [
    {
     "data": {
      "image/png": "[encoded data removed]",
      "text/plain": [
       "<matplotlib.figure.Figure at 0x118dfca90>"
      ]
     },
     "metadata": {},
     "output_type": "display_data"
    },
    {
     "data": {
      "text/plain": [
       "array([ 7.,  4., -1., 10., -1.])"
      ]
     },
     "execution_count": 0,
     "metadata": {},
     "output_type": "execute_result"
    }
   ],
   "source": [
    "w2,resid,rank,sigma = np.linalg.lstsq(Z,y)\n",
    "yhat2 = np.matmul(Z,w2)\n",
    "fig = plt.figure()\n",
    "plt.xlabel('x')\n",
    "plt.ylabel('y')\n",
    "plt.plot(X, y, 'o', figure=fig, label='data')\n",
    "plt.plot(X, yhat2, 'r', figure=fig, label = 'regression')\n",
    "plt.show()\n",
    "display(w2)"
   ]
  },
  {
   "cell_type": "code",
   "execution_count": 240,
   "metadata": {},
   "outputs": [
    {
     "data": {
      "text/plain": [
       "6"
      ]
     },
     "execution_count": 240,
     "metadata": {},
     "output_type": "execute_result"
    }
   ],
   "source": [
    "rank"
   ]
  },
  {
   "cell_type": "code",
   "execution_count": null,
   "metadata": {},
   "outputs": [],
   "source": [
    ""
   ]
  }
 ],
 "metadata": {
  "kernelspec": {
   "display_name": "Python 2",
   "language": "python",
   "name": "python2"
  },
  "language_info": {
   "codemirror_mode": {
    "name": "ipython",
    "version": 2.0
   },
   "file_extension": ".py",
   "mimetype": "text/x-python",
   "name": "python",
   "nbconvert_exporter": "python",
   "pygments_lexer": "ipython2",
   "version": "2.7.6"
  }
 },
 "nbformat": 4,
 "nbformat_minor": 0
}